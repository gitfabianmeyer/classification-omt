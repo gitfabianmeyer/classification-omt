{
 "cells": [
  {
   "cell_type": "code",
   "execution_count": 1,
   "metadata": {
    "scrolled": true
   },
   "outputs": [
    {
     "name": "stdout",
     "output_type": "stream",
     "text": [
      "before cleaning...\n",
      "\n",
      "<class 'pandas.core.frame.DataFrame'>\n",
      "Int64Index: 209906 entries, 0 to 209905\n",
      "Data columns (total 4 columns):\n",
      "#           209906 non-null object\n",
      "Answers     209906 non-null object\n",
      "Class       209906 non-null object\n",
      "Subclass    209906 non-null object\n",
      "dtypes: object(4)\n",
      "memory usage: 8.0+ MB\n",
      "None \n",
      "\n",
      "M     85946\n",
      "L     40995\n",
      "F     37604\n",
      "A     35419\n",
      "0      9929\n",
      "\\N       13\n",
      "Name: Class, dtype: int64 \n",
      "\n",
      "<class 'pandas.core.frame.DataFrame'>\n",
      "Int64Index: 209906 entries, 0 to 209905\n",
      "Data columns (total 4 columns):\n",
      "#           209906 non-null object\n",
      "Answers     209906 non-null object\n",
      "Class       209906 non-null object\n",
      "Subclass    209906 non-null object\n",
      "dtypes: object(4)\n",
      "memory usage: 8.0+ MB\n",
      "None \n",
      "\n",
      "M     123550\n",
      "L      40995\n",
      "A      35419\n",
      "0       9929\n",
      "\\N        13\n",
      "Name: Class, dtype: int64 \n",
      "\n",
      "After Cleaning\n",
      "<class 'pandas.core.frame.DataFrame'>\n",
      "Int64Index: 209893 entries, 0 to 209905\n",
      "Data columns (total 7 columns):\n",
      "#             209893 non-null object\n",
      "Answers       209893 non-null object\n",
      "Class         209893 non-null object\n",
      "Subclass      209893 non-null object\n",
      "answer_len    209893 non-null int64\n",
      "word_count    209893 non-null int64\n",
      "language      209893 non-null object\n",
      "dtypes: int64(2), object(5)\n",
      "memory usage: 12.8+ MB\n",
      "None \n",
      "\n",
      "M    123550\n",
      "L     40995\n",
      "A     35419\n",
      "0      9929\n",
      "Name: Class, dtype: int64 \n",
      "\n",
      "                            #  \\\n",
      "0    185124138106620081063215   \n",
      "1    185124138106620081063215   \n",
      "2    185124138106620081063215   \n",
      "3  52122529750377312346781011   \n",
      "4  52122529750377312346781011   \n",
      "\n",
      "                                             Answers Class Subclass  \\\n",
      "0  ignoranz den anderen gegenüber. schlecht. die ...     M        5   \n",
      "1  mitlachen, mit eingeschlossen zu werden. sie l...     A        5   \n",
      "2  den anderen Umamen, ehrlichkeit, vertrauen. gu...     A        1   \n",
      "3  Sie hält die andere Person, stütz sie. Gut. Si...     M        1   \n",
      "4  Entspannung, Spaß zu haben. Sie albern herum. ...     A        2   \n",
      "\n",
      "   answer_len  word_count language  \n",
      "0         198          30       de  \n",
      "1         269          40       de  \n",
      "2         123          20       de  \n",
      "3         156          26       de  \n",
      "4         179          28       de  \n"
     ]
    },
    {
     "data": {
      "text/html": [
       "<div>\n",
       "<style scoped>\n",
       "    .dataframe tbody tr th:only-of-type {\n",
       "        vertical-align: middle;\n",
       "    }\n",
       "\n",
       "    .dataframe tbody tr th {\n",
       "        vertical-align: top;\n",
       "    }\n",
       "\n",
       "    .dataframe thead th {\n",
       "        text-align: right;\n",
       "    }\n",
       "</style>\n",
       "<table border=\"1\" class=\"dataframe\">\n",
       "  <thead>\n",
       "    <tr style=\"text-align: right;\">\n",
       "      <th></th>\n",
       "      <th>count</th>\n",
       "      <th>mean</th>\n",
       "      <th>std</th>\n",
       "      <th>min</th>\n",
       "      <th>25%</th>\n",
       "      <th>50%</th>\n",
       "      <th>75%</th>\n",
       "      <th>max</th>\n",
       "    </tr>\n",
       "  </thead>\n",
       "  <tbody>\n",
       "    <tr>\n",
       "      <th>answer_len</th>\n",
       "      <td>209893.0</td>\n",
       "      <td>145.769673</td>\n",
       "      <td>74.928263</td>\n",
       "      <td>4.0</td>\n",
       "      <td>90.0</td>\n",
       "      <td>130.0</td>\n",
       "      <td>187.0</td>\n",
       "      <td>543.0</td>\n",
       "    </tr>\n",
       "    <tr>\n",
       "      <th>word_count</th>\n",
       "      <td>209893.0</td>\n",
       "      <td>22.153011</td>\n",
       "      <td>12.037903</td>\n",
       "      <td>1.0</td>\n",
       "      <td>13.0</td>\n",
       "      <td>20.0</td>\n",
       "      <td>29.0</td>\n",
       "      <td>99.0</td>\n",
       "    </tr>\n",
       "  </tbody>\n",
       "</table>\n",
       "</div>"
      ],
      "text/plain": [
       "               count        mean        std  min   25%    50%    75%    max\n",
       "answer_len  209893.0  145.769673  74.928263  4.0  90.0  130.0  187.0  543.0\n",
       "word_count  209893.0   22.153011  12.037903  1.0  13.0   20.0   29.0   99.0"
      ]
     },
     "execution_count": 1,
     "metadata": {},
     "output_type": "execute_result"
    }
   ],
   "source": [
    "from time import time\n",
    "import sys\n",
    "import pandas as pd\n",
    "import csv\n",
    "import re\n",
    "from langdetect import detect\n",
    "\n",
    "def my_detect(row):\n",
    "    if(len(str(row).split()) > 12):\n",
    "        try:\n",
    "            language = detect(row)\n",
    "            return language\n",
    "        except:\n",
    "            language = \"error\"\n",
    "            return 'unknown'\n",
    "    return 'de'        \n",
    "\n",
    "\n",
    "\n",
    "df = pd.read_csv('OMTGeschichten1_bearb.txt', sep = \";\" , quoting = csv.QUOTE_NONE,\n",
    "                            names = [\"#\",\"Answers\", \"Class\", \"Subclass\"\n",
    "                                    ]\n",
    "                           )\n",
    "df = df.dropna(axis = 0)\n",
    "\n",
    "print('before cleaning...\\n')\n",
    "print(df.info(), \"\\n\")\n",
    "print(df[\"Class\"].value_counts(), \"\\n\")\n",
    "#Motive F is basicly a sub-motive from M and therefore not further used as indipendent motive\n",
    "df[\"Class\"] = df[\"Class\"].replace([\"F\"],[\"M\"])\n",
    "print(df.info(), \"\\n\")\n",
    "print(df[\"Class\"].value_counts(), \"\\n\")\n",
    "\n",
    "df = df.dropna(axis = 0)\n",
    "#delete potentially wrong labels ('\\N' seems to accure from time to time)\n",
    "df = df.drop(df[df.Class == '\\\\N'].index)\n",
    "df['Answers'] = df['Answers'].replace(to_replace = r'([a-zA-Z])(\\.|\\/)([a-zA-Z])', value= r'\\1\\2 \\3', regex=True)\n",
    "df['answer_len'] = df['Answers'].astype(str).apply(len)\n",
    "df['word_count'] = df['Answers'].apply(lambda x: len(str(x).split()))\n",
    "df['language'] = df['Answers'].apply(my_detect)\n",
    "\n",
    "\n",
    "print(\"After Cleaning\")\n",
    "print(df.info(), \"\\n\")\n",
    "print(df[\"Class\"].value_counts(), \"\\n\")\n",
    "print(df.head())\n",
    "df.describe().T\n"
   ]
  },
  {
   "cell_type": "code",
   "execution_count": 2,
   "metadata": {},
   "outputs": [
    {
     "name": "stdout",
     "output_type": "stream",
     "text": [
      "Stored 'df' (DataFrame)\n"
     ]
    }
   ],
   "source": [
    "%store df"
   ]
  },
  {
   "cell_type": "code",
   "execution_count": 3,
   "metadata": {},
   "outputs": [
    {
     "name": "stdout",
     "output_type": "stream",
     "text": [
      "               count        mean        std  min   25%    50%    75%    max\n",
      "answer_len  209399.0  145.753910  74.932951  4.0  90.0  130.0  187.0  543.0\n",
      "word_count  209399.0   22.144943  12.033364  1.0  13.0   20.0   29.0   97.0\n",
      "\n",
      "M    123244\n",
      "L     40899\n",
      "A     35357\n",
      "0      9899\n",
      "Name: Class, dtype: int64\n",
      "\n",
      "                            #  \\\n",
      "0    185124138106620081063215   \n",
      "1    185124138106620081063215   \n",
      "2    185124138106620081063215   \n",
      "3  52122529750377312346781011   \n",
      "4  52122529750377312346781011   \n",
      "\n",
      "                                             Answers Class Subclass  \\\n",
      "0  ignoranz den anderen gegenüber. schlecht. die ...     M        5   \n",
      "1  mitlachen, mit eingeschlossen zu werden. sie l...     A        5   \n",
      "2  den anderen Umamen, ehrlichkeit, vertrauen. gu...     A        1   \n",
      "3  Sie hält die andere Person, stütz sie. Gut. Si...     M        1   \n",
      "4  Entspannung, Spaß zu haben. Sie albern herum. ...     A        2   \n",
      "\n",
      "   answer_len  word_count language  \n",
      "0         198          30       de  \n",
      "1         269          40       de  \n",
      "2         123          20       de  \n",
      "3         156          26       de  \n",
      "4         179          28       de  \n"
     ]
    }
   ],
   "source": [
    "isGerman = df['language']=='de'\n",
    "df_German = df[isGerman]\n",
    "print(df_German.describe().T)\n",
    "print()\n",
    "print(df_German['Class'].value_counts())\n",
    "print()\n",
    "print(df_German.head())"
   ]
  },
  {
   "cell_type": "code",
   "execution_count": 1,
   "metadata": {},
   "outputs": [],
   "source": [
    "%store -r df_German "
   ]
  },
  {
   "cell_type": "code",
   "execution_count": null,
   "metadata": {
    "scrolled": true
   },
   "outputs": [],
   "source": [
    "isForeign = df['language']!='de'\n",
    "df_Foreign = df[isForeign]\n",
    "print(df_Foreign.describe().T)\n",
    "print(df_Foreign['language'].value_counts())\n",
    "print(df_Foreign['Answers'])"
   ]
  },
  {
   "cell_type": "code",
   "execution_count": 4,
   "metadata": {},
   "outputs": [
    {
     "data": {
      "image/png": "[encoded data removed]",
      "text/plain": [
       "<Figure size 648x288 with 1 Axes>"
      ]
     },
     "metadata": {
      "needs_background": "light"
     },
     "output_type": "display_data"
    }
   ],
   "source": [
    "plot = df_German['word_count'].sort_index().plot(figsize= (9,4), kind='kde')\n",
    "fig = plot.get_figure()\n",
    "fig.savefig(\"length_density.png\")"
   ]
  },
  {
   "cell_type": "code",
   "execution_count": 6,
   "metadata": {},
   "outputs": [
    {
     "data": {
      "image/png": "[encoded data removed]",
      "text/plain": [
       "<Figure size 720x216 with 1 Axes>"
      ]
     },
     "metadata": {
      "needs_background": "light"
     },
     "output_type": "display_data"
    }
   ],
   "source": [
    "import matplotlib.pyplot as plt\n",
    "plot2= df_German.boxplot(column='word_count',figsize =(10,3), vert=False)\n",
    "fig2 = plot2.get_figure()\n",
    "fig2.savefig(\"whiskers.png\")"
   ]
  },
  {
   "cell_type": "code",
   "execution_count": 12,
   "metadata": {},
   "outputs": [
    {
     "data": {
      "image/png": "[encoded data removed]",
      "text/plain": [
       "<Figure size 432x288 with 1 Axes>"
      ]
     },
     "metadata": {
      "needs_background": "light"
     },
     "output_type": "display_data"
    }
   ],
   "source": [
    "import matplotlib.pyplot as plt\n",
    "import numpy as np\n",
    "\n",
    "plot3 = df_German['Class'].value_counts().plot.bar( align = 'center', color = [\"grey\", \"grey\", \"grey\", \"grey\"], alpha=0.4, edgecolor= \"black\", rot = 0)\n",
    "fig3 = plot3.get_figure()\n",
    "fig3.savefig(\"classes.png\")"
   ]
  },
  {
   "cell_type": "code",
   "execution_count": 8,
   "metadata": {},
   "outputs": [
    {
     "name": "stdout",
     "output_type": "stream",
     "text": [
      "Variable     Type                          Data/Info\n",
      "----------------------------------------------------\n",
      "csv          module                        <module 'csv' from 'C:\\\\U<...>cation_omt\\\\lib\\\\csv.py'>\n",
      "detect       function                      <function detect at 0x000002DE1E662A60>\n",
      "df           DataFrame                                              <...>[209893 rows x 7 columns]\n",
      "df_Foreign   DataFrame                                              <...>n\\n[494 rows x 7 columns]\n",
      "df_German    DataFrame                                              <...>[209399 rows x 7 columns]\n",
      "isForeign    Series                        0         False\\n1       <...>ngth: 209893, dtype: bool\n",
      "isGerman     Series                        0         True\\n1        <...>ngth: 209893, dtype: bool\n",
      "my_detect    function                      <function my_detect at 0x000002DE0E3CFBF8>\n",
      "np           module                        <module 'numpy' from 'C:\\<...>ges\\\\numpy\\\\__init__.py'>\n",
      "pd           module                        <module 'pandas' from 'C:<...>es\\\\pandas\\\\__init__.py'>\n",
      "plt          module                        <module 'matplotlib.pyplo<...>\\\\matplotlib\\\\pyplot.py'>\n",
      "re           module                        <module 're' from 'C:\\\\Us<...>ication_omt\\\\lib\\\\re.py'>\n",
      "sys          module                        <module 'sys' (built-in)>\n",
      "time         builtin_function_or_method    <built-in function time>\n"
     ]
    }
   ],
   "source": [
    "%whos"
   ]
  },
  {
   "cell_type": "code",
   "execution_count": 10,
   "metadata": {},
   "outputs": [
    {
     "name": "stdout",
     "output_type": "stream",
     "text": [
      "Stored 'df_German' (DataFrame)\n"
     ]
    }
   ],
   "source": [
    "%store df_German"
   ]
  },
  {
   "cell_type": "code",
   "execution_count": 11,
   "metadata": {},
   "outputs": [],
   "source": [
    "from sklearn.model_selection import train_test_split\n",
    "\n",
    "df_German_train, df_German_test = train_test_split(df_German, test_size = 0.3, stratify = df_German['Class'])"
   ]
  },
  {
   "cell_type": "code",
   "execution_count": 26,
   "metadata": {},
   "outputs": [
    {
     "data": {
      "text/plain": [
       "(146579, 7)"
      ]
     },
     "execution_count": 26,
     "metadata": {},
     "output_type": "execute_result"
    }
   ],
   "source": [
    "df_German_train.shape"
   ]
  },
  {
   "cell_type": "code",
   "execution_count": 25,
   "metadata": {},
   "outputs": [],
   "source": [
    "df_German_train.to_csv(path_or_buf='df_German_train.csv' , sep = ';')"
   ]
  },
  {
   "cell_type": "code",
   "execution_count": 12,
   "metadata": {},
   "outputs": [
    {
     "data": {
      "text/plain": [
       "<matplotlib.axes._subplots.AxesSubplot at 0x2de1e6c2668>"
      ]
     },
     "execution_count": 12,
     "metadata": {},
     "output_type": "execute_result"
    },
    {
     "data": {
      "image/png": "[encoded data removed]",
      "text/plain": [
       "<Figure size 432x288 with 1 Axes>"
      ]
     },
     "metadata": {
      "needs_background": "light"
     },
     "output_type": "display_data"
    }
   ],
   "source": [
    "df_German_train['Class'].value_counts().plot.bar( align = 'center', color = [\"red\", \"yellow\", \"green\", \"white\"], alpha=0.8, edgecolor= \"black\", )"
   ]
  },
  {
   "cell_type": "code",
   "execution_count": 13,
   "metadata": {},
   "outputs": [
    {
     "data": {
      "text/plain": [
       "<matplotlib.axes._subplots.AxesSubplot at 0x2de2dbe2d68>"
      ]
     },
     "execution_count": 13,
     "metadata": {},
     "output_type": "execute_result"
    },
    {
     "data": {
      "image/png": "[encoded data removed]",
      "text/plain": [
       "<Figure size 432x288 with 1 Axes>"
      ]
     },
     "metadata": {
      "needs_background": "light"
     },
     "output_type": "display_data"
    }
   ],
   "source": [
    "df_German_test['Class'].value_counts().plot.bar( align = 'center', color = [\"red\", \"yellow\", \"green\", \"white\"], alpha=0.8, edgecolor= \"black\", )"
   ]
  },
  {
   "cell_type": "code",
   "execution_count": 16,
   "metadata": {},
   "outputs": [
    {
     "name": "stdout",
     "output_type": "stream",
     "text": [
      "M    86271\n",
      "L    28629\n",
      "A    24750\n",
      "0     6929\n",
      "Name: Class, dtype: int64\n",
      "<class 'pandas.core.frame.DataFrame'>\n",
      "Int64Index: 146579 entries, 181494 to 24861\n",
      "Data columns (total 7 columns):\n",
      "#             146579 non-null object\n",
      "Answers       146579 non-null object\n",
      "Class         146579 non-null object\n",
      "Subclass      146579 non-null object\n",
      "answer_len    146579 non-null int64\n",
      "word_count    146579 non-null int64\n",
      "language      146579 non-null object\n",
      "dtypes: int64(2), object(5)\n",
      "memory usage: 8.9+ MB\n",
      "None\n",
      "\n",
      "M    36973\n",
      "L    12270\n",
      "A    10607\n",
      "0     2970\n",
      "Name: Class, dtype: int64\n",
      "<class 'pandas.core.frame.DataFrame'>\n",
      "Int64Index: 62820 entries, 63231 to 122317\n",
      "Data columns (total 7 columns):\n",
      "#             62820 non-null object\n",
      "Answers       62820 non-null object\n",
      "Class         62820 non-null object\n",
      "Subclass      62820 non-null object\n",
      "answer_len    62820 non-null int64\n",
      "word_count    62820 non-null int64\n",
      "language      62820 non-null object\n",
      "dtypes: int64(2), object(5)\n",
      "memory usage: 3.8+ MB\n",
      "None\n"
     ]
    }
   ],
   "source": [
    "print(df_German_train['Class'].value_counts())\n",
    "print(df_German_train.info())\n",
    "print()\n",
    "print(df_German_test['Class'].value_counts())\n",
    "print(df_German_test.info())"
   ]
  },
  {
   "cell_type": "code",
   "execution_count": 18,
   "metadata": {},
   "outputs": [
    {
     "data": {
      "text/html": [
       "<div>\n",
       "<style scoped>\n",
       "    .dataframe tbody tr th:only-of-type {\n",
       "        vertical-align: middle;\n",
       "    }\n",
       "\n",
       "    .dataframe tbody tr th {\n",
       "        vertical-align: top;\n",
       "    }\n",
       "\n",
       "    .dataframe thead th {\n",
       "        text-align: right;\n",
       "    }\n",
       "</style>\n",
       "<table border=\"1\" class=\"dataframe\">\n",
       "  <thead>\n",
       "    <tr style=\"text-align: right;\">\n",
       "      <th></th>\n",
       "      <th>#</th>\n",
       "      <th>Answers</th>\n",
       "      <th>Class</th>\n",
       "      <th>Subclass</th>\n",
       "      <th>answer_len</th>\n",
       "      <th>word_count</th>\n",
       "      <th>language</th>\n",
       "    </tr>\n",
       "  </thead>\n",
       "  <tbody>\n",
       "    <tr>\n",
       "      <th>63231</th>\n",
       "      <td>7991355074900595</td>\n",
       "      <td>belehren/ lehren. wissend. mehr lebenserfahrun...</td>\n",
       "      <td>M</td>\n",
       "      <td>3</td>\n",
       "      <td>205</td>\n",
       "      <td>27</td>\n",
       "      <td>de</td>\n",
       "    </tr>\n",
       "    <tr>\n",
       "      <th>104740</th>\n",
       "      <td>10251401874110511</td>\n",
       "      <td>der Spaß in der Gruppe ist wichtig, sie schwim...</td>\n",
       "      <td>A</td>\n",
       "      <td>2</td>\n",
       "      <td>204</td>\n",
       "      <td>32</td>\n",
       "      <td>de</td>\n",
       "    </tr>\n",
       "    <tr>\n",
       "      <th>126042</th>\n",
       "      <td>11991426687900052M4</td>\n",
       "      <td>Herausforderung, klettert einen Berg hinauf. S...</td>\n",
       "      <td>L</td>\n",
       "      <td>3</td>\n",
       "      <td>98</td>\n",
       "      <td>12</td>\n",
       "      <td>de</td>\n",
       "    </tr>\n",
       "    <tr>\n",
       "      <th>125817</th>\n",
       "      <td>4541425564219826M5</td>\n",
       "      <td>sie delegiert eine Aufgabe an das Team, es ist...</td>\n",
       "      <td>M</td>\n",
       "      <td>4</td>\n",
       "      <td>179</td>\n",
       "      <td>29</td>\n",
       "      <td>de</td>\n",
       "    </tr>\n",
       "    <tr>\n",
       "      <th>135897</th>\n",
       "      <td>5781438587446101K</td>\n",
       "      <td>sich unterhalten. entspannt. wellness.</td>\n",
       "      <td>A</td>\n",
       "      <td>2</td>\n",
       "      <td>38</td>\n",
       "      <td>4</td>\n",
       "      <td>de</td>\n",
       "    </tr>\n",
       "  </tbody>\n",
       "</table>\n",
       "</div>"
      ],
      "text/plain": [
       "                          #  \\\n",
       "63231      7991355074900595   \n",
       "104740    10251401874110511   \n",
       "126042  11991426687900052M4   \n",
       "125817   4541425564219826M5   \n",
       "135897    5781438587446101K   \n",
       "\n",
       "                                                  Answers Class Subclass  \\\n",
       "63231   belehren/ lehren. wissend. mehr lebenserfahrun...     M        3   \n",
       "104740  der Spaß in der Gruppe ist wichtig, sie schwim...     A        2   \n",
       "126042  Herausforderung, klettert einen Berg hinauf. S...     L        3   \n",
       "125817  sie delegiert eine Aufgabe an das Team, es ist...     M        4   \n",
       "135897             sich unterhalten. entspannt. wellness.     A        2   \n",
       "\n",
       "        answer_len  word_count language  \n",
       "63231          205          27       de  \n",
       "104740         204          32       de  \n",
       "126042          98          12       de  \n",
       "125817         179          29       de  \n",
       "135897          38           4       de  "
      ]
     },
     "execution_count": 18,
     "metadata": {},
     "output_type": "execute_result"
    }
   ],
   "source": [
    "df_German_test.head()"
   ]
  },
  {
   "cell_type": "code",
   "execution_count": 19,
   "metadata": {},
   "outputs": [
    {
     "name": "stdout",
     "output_type": "stream",
     "text": [
      "Stored 'df_German_test' (DataFrame)\n",
      "Stored 'df_German_train' (DataFrame)\n"
     ]
    }
   ],
   "source": [
    "%store df_German_test\n",
    "%store df_German_train"
   ]
  },
  {
   "cell_type": "code",
   "execution_count": 1,
   "metadata": {},
   "outputs": [],
   "source": [
    "%store -r df_German_test\n",
    "%store -r df_German_train"
   ]
  },
  {
   "cell_type": "code",
   "execution_count": 2,
   "metadata": {},
   "outputs": [
    {
     "data": {
      "text/html": [
       "<div>\n",
       "<style scoped>\n",
       "    .dataframe tbody tr th:only-of-type {\n",
       "        vertical-align: middle;\n",
       "    }\n",
       "\n",
       "    .dataframe tbody tr th {\n",
       "        vertical-align: top;\n",
       "    }\n",
       "\n",
       "    .dataframe thead th {\n",
       "        text-align: right;\n",
       "    }\n",
       "</style>\n",
       "<table border=\"1\" class=\"dataframe\">\n",
       "  <thead>\n",
       "    <tr style=\"text-align: right;\">\n",
       "      <th></th>\n",
       "      <th>count</th>\n",
       "      <th>mean</th>\n",
       "      <th>std</th>\n",
       "      <th>min</th>\n",
       "      <th>25%</th>\n",
       "      <th>50%</th>\n",
       "      <th>75%</th>\n",
       "      <th>max</th>\n",
       "    </tr>\n",
       "  </thead>\n",
       "  <tbody>\n",
       "    <tr>\n",
       "      <th>answer_len</th>\n",
       "      <td>146579.0</td>\n",
       "      <td>145.676714</td>\n",
       "      <td>74.954989</td>\n",
       "      <td>5.0</td>\n",
       "      <td>89.0</td>\n",
       "      <td>130.0</td>\n",
       "      <td>187.0</td>\n",
       "      <td>536.0</td>\n",
       "    </tr>\n",
       "    <tr>\n",
       "      <th>word_count</th>\n",
       "      <td>146579.0</td>\n",
       "      <td>22.130987</td>\n",
       "      <td>12.041271</td>\n",
       "      <td>1.0</td>\n",
       "      <td>13.0</td>\n",
       "      <td>20.0</td>\n",
       "      <td>29.0</td>\n",
       "      <td>97.0</td>\n",
       "    </tr>\n",
       "  </tbody>\n",
       "</table>\n",
       "</div>"
      ],
      "text/plain": [
       "               count        mean        std  min   25%    50%    75%    max\n",
       "answer_len  146579.0  145.676714  74.954989  5.0  89.0  130.0  187.0  536.0\n",
       "word_count  146579.0   22.130987  12.041271  1.0  13.0   20.0   29.0   97.0"
      ]
     },
     "execution_count": 2,
     "metadata": {},
     "output_type": "execute_result"
    }
   ],
   "source": [
    "df_German_train.describe().T"
   ]
  },
  {
   "cell_type": "code",
   "execution_count": 3,
   "metadata": {},
   "outputs": [],
   "source": [
    "df_German_train.to_csv(path_or_buf='omt_train_tab.csv', columns= ['Answers', 'Class'], sep='\\t', index=False, header=None)"
   ]
  },
  {
   "cell_type": "code",
   "execution_count": 4,
   "metadata": {},
   "outputs": [],
   "source": [
    "df_German_test.to_csv(path_or_buf='omt_test_tab.csv', columns= ['Answers', 'Class'], sep='\\t', index=False, header=None)"
   ]
  },
  {
   "cell_type": "code",
   "execution_count": null,
   "metadata": {},
   "outputs": [],
   "source": []
  }
 ],
 "metadata": {
  "kernelspec": {
   "display_name": "Python 3",
   "language": "python",
   "name": "python3"
  },
  "language_info": {
   "codemirror_mode": {
    "name": "ipython",
    "version": 3
   },
   "file_extension": ".py",
   "mimetype": "text/x-python",
   "name": "python",
   "nbconvert_exporter": "python",
   "pygments_lexer": "ipython3",
   "version": "3.6.7"
  }
 },
 "nbformat": 4,
 "nbformat_minor": 2
}
